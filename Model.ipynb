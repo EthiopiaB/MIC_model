{
 "cells": [
  {
   "cell_type": "code",
   "execution_count": 1,
   "id": "48665a28",
   "metadata": {},
   "outputs": [],
   "source": [
    "import os\n",
    "import csv\n",
    "import pandas as pd"
   ]
  },
  {
   "cell_type": "code",
   "execution_count": 2,
   "id": "a7be5d26",
   "metadata": {
    "tags": [
     "parameters"
    ]
   },
   "outputs": [],
   "source": [
    "input_file : str = \"./Input.csv\"\n",
    "start_year : int = 1981\n",
    "end_year : int = 2001\n",
    "start_month : int = 1\n",
    "end_month : int = 12"
   ]
  },
  {
   "cell_type": "code",
   "execution_count": 3,
   "id": "0c888019",
   "metadata": {},
   "outputs": [],
   "source": [
    "#Calculate the weighted average of the csv file and get a csv output of subbasin name vs grid data\n",
    "df=pd.read_csv(input_file)\n",
    "df.head()\n",
    "df['weight'] = df['PartArea'] / df.groupby('NAME')['PartArea'].transform('sum')"
   ]
  },
  {
   "cell_type": "code",
   "execution_count": 4,
   "id": "1337a64b",
   "metadata": {},
   "outputs": [],
   "source": [
    "#define columns in your analysis\n",
    "#find dataframe value and return column number\n",
    "col_name_first = f\"\"\"{start_year}_{start_month}\"\"\" #First date of analysis\n",
    "index_no_first = df.columns.get_loc(col_name_first)\n",
    "col_name_last = f\"\"\"{end_year}_{end_month}\"\"\" #First date of analysis\n",
    "index_no_last = df.columns.get_loc(col_name_last)"
   ]
  },
  {
   "cell_type": "code",
   "execution_count": 5,
   "id": "51e80c66",
   "metadata": {},
   "outputs": [],
   "source": [
    "cols=df.columns[index_no_first:index_no_last+1] \n",
    "df[cols] = df['weight'].values[:, None] * df[cols]\n",
    "df2= df.groupby('NAME')[cols].sum()\n",
    "df3= df2.T"
   ]
  },
  {
   "cell_type": "code",
   "execution_count": 6,
   "id": "b3f73343",
   "metadata": {},
   "outputs": [],
   "source": [
    "a = len(df3. columns)\n",
    "b = range (1, a+1)\n",
    "df3.loc[\";ID\"] = b\n",
    "newIndex= [\";ID\"] + [ind for ind in df3.index if ind!=\";ID\"]\n",
    "df3=df3.reindex(index=newIndex)"
   ]
  },
  {
   "cell_type": "code",
   "execution_count": 7,
   "id": "f26ca4d6",
   "metadata": {},
   "outputs": [],
   "source": [
    "df3.to_csv(\"output.csv\")"
   ]
  },
  {
   "cell_type": "code",
   "execution_count": null,
   "id": "85270545",
   "metadata": {},
   "outputs": [],
   "source": []
  }
 ],
 "metadata": {
  "celltoolbar": "Tags",
  "kernelspec": {
   "display_name": "Python 3",
   "language": "python",
   "name": "python3"
  },
  "language_info": {
   "codemirror_mode": {
    "name": "ipython",
    "version": 3
   },
   "file_extension": ".py",
   "mimetype": "text/x-python",
   "name": "python",
   "nbconvert_exporter": "python",
   "pygments_lexer": "ipython3",
   "version": "3.9.2"
  }
 },
 "nbformat": 4,
 "nbformat_minor": 5
}
