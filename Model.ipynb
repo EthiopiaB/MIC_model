{
 "cells": [
  {
   "cell_type": "code",
   "execution_count": 2,
   "source": [
    "import os\n",
    "import csv\n",
    "import pandas as pd"
   ],
   "outputs": [],
   "metadata": {}
  },
  {
   "cell_type": "code",
   "execution_count": 3,
   "source": [
    "input_file : 'CWLFilePathInput'  = \"./Input.csv\"\n",
    "start_year : 'CWLIntInput' = 1981\n",
    "end_year : 'CWLIntInput' = 2001\n",
    "start_month : 'CWLIntInput' = 1\n",
    "end_month : 'CWLIntInput'= 12"
   ],
   "outputs": [],
   "metadata": {
    "tags": [
     "parameters"
    ]
   }
  },
  {
   "cell_type": "code",
   "execution_count": 4,
   "source": [
    "#Calculate the weighted average of the csv file and get a csv output of subbasin name vs grid data\n",
    "df=pd.read_csv(input_file)\n",
    "df.head()\n",
    "df['weight'] = df['PartArea'] / df.groupby('NAME')['PartArea'].transform('sum')"
   ],
   "outputs": [],
   "metadata": {}
  },
  {
   "cell_type": "code",
   "execution_count": 5,
   "source": [
    "#define columns in your analysis\n",
    "#find dataframe value and return column number\n",
    "col_name_first = f\"\"\"{start_year}_{start_month}\"\"\" #First date of analysis\n",
    "index_no_first = df.columns.get_loc(col_name_first)\n",
    "col_name_last = f\"\"\"{end_year}_{end_month}\"\"\" #First date of analysis\n",
    "index_no_last = df.columns.get_loc(col_name_last)"
   ],
   "outputs": [],
   "metadata": {}
  },
  {
   "cell_type": "code",
   "execution_count": 6,
   "source": [
    "cols=df.columns[index_no_first:index_no_last+1] \n",
    "df[cols] = df['weight'].values[:, None] * df[cols]\n",
    "df2= df.groupby('NAME')[cols].sum()\n",
    "df3= df2.T"
   ],
   "outputs": [],
   "metadata": {}
  },
  {
   "cell_type": "code",
   "execution_count": 7,
   "source": [
    "a = len(df3. columns)\n",
    "b = range (1, a+1)\n",
    "df3.loc[\";ID\"] = b\n",
    "newIndex= [\";ID\"] + [ind for ind in df3.index if ind!=\";ID\"]\n",
    "df3=df3.reindex(index=newIndex)"
   ],
   "outputs": [],
   "metadata": {}
  },
  {
   "cell_type": "code",
   "execution_count": 8,
   "source": [
    "df3.to_csv(\"output.csv\")"
   ],
   "outputs": [],
   "metadata": {}
  },
  {
   "cell_type": "code",
   "execution_count": null,
   "source": [],
   "outputs": [],
   "metadata": {}
  }
 ],
 "metadata": {
  "celltoolbar": "Tags",
  "kernelspec": {
   "name": "python3",
   "display_name": "Python 3.9.5 64-bit"
  },
  "language_info": {
   "codemirror_mode": {
    "name": "ipython",
    "version": 3
   },
   "file_extension": ".py",
   "mimetype": "text/x-python",
   "name": "python",
   "nbconvert_exporter": "python",
   "pygments_lexer": "ipython3",
   "version": "3.9.5"
  },
  "interpreter": {
   "hash": "916dbcbb3f70747c44a77c7bcd40155683ae19c65e1c03b4aa3499c5328201f1"
  }
 },
 "nbformat": 4,
 "nbformat_minor": 5
}