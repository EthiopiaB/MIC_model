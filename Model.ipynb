{
 "cells": [
  {
   "cell_type": "code",
   "execution_count": 4,
   "id": "48665a28",
   "metadata": {},
   "outputs": [],
   "source": [
    "import os\n",
    "import csv\n",
    "import pandas as pd"
   ]
  },
  {
   "cell_type": "code",
   "execution_count": 5,
   "id": "a7be5d26",
   "metadata": {},
   "outputs": [],
   "source": [
    "input_file = \"./Input.csv\"\n",
    "output_file = \"./Output.csv\""
   ]
  },
  {
   "cell_type": "code",
   "execution_count": 6,
   "id": "0c888019",
   "metadata": {},
   "outputs": [],
   "source": [
    "#Calculate the weighted average of the csv file and get a csv output of subbasin name vs grid data\n",
    "df=pd.read_csv(input_file)\n",
    "df.head()\n",
    "df['weight'] = df['PartArea'] / df.groupby('NAME')['PartArea'].transform('sum')"
   ]
  },
  {
   "cell_type": "code",
   "execution_count": 7,
   "id": "1337a64b",
   "metadata": {},
   "outputs": [],
   "source": [
    "#define columns in your analysis\n",
    "#find dataframe value and return column number\n",
    "col_name_first = \"1981_1\" #First date of analysis\n",
    "index_no_first = df.columns.get_loc(col_name_first)\n",
    "col_name_last = \"2001_12\" #Last date of analysis\n",
    "index_no_last = df.columns.get_loc(col_name_last)"
   ]
  },
  {
   "cell_type": "code",
   "execution_count": 8,
   "id": "51e80c66",
   "metadata": {},
   "outputs": [],
   "source": [
    "cols=df.columns[index_no_first:index_no_last+1] \n",
    "df[cols] = df['weight'].values[:, None] * df[cols]\n",
    "df2= df.groupby('NAME')[cols].sum()\n",
    "df3= df2.T"
   ]
  },
  {
   "cell_type": "code",
   "execution_count": 9,
   "id": "b3f73343",
   "metadata": {},
   "outputs": [],
   "source": [
    "a = len(df3. columns)\n",
    "b = range (1, a+1)\n",
    "df3.loc[\";ID\"] = b\n",
    "newIndex= [\";ID\"] + [ind for ind in df3.index if ind!=\";ID\"]\n",
    "df3=df3.reindex(index=newIndex)"
   ]
  },
  {
   "cell_type": "code",
   "execution_count": 10,
   "id": "f26ca4d6",
   "metadata": {},
   "outputs": [],
   "source": [
    "df3.to_csv(output_file)"
   ]
  },
  {
   "cell_type": "code",
   "execution_count": null,
   "id": "85270545",
   "metadata": {},
   "outputs": [],
   "source": []
  }
 ],
 "metadata": {
  "kernelspec": {
   "display_name": "Python 3 (ipykernel)",
   "language": "python",
   "name": "python3"
  },
  "language_info": {
   "codemirror_mode": {
    "name": "ipython",
    "version": 3
   },
   "file_extension": ".py",
   "mimetype": "text/x-python",
   "name": "python",
   "nbconvert_exporter": "python",
   "pygments_lexer": "ipython3",
   "version": "3.9.6"
  }
 },
 "nbformat": 4,
 "nbformat_minor": 5
}
